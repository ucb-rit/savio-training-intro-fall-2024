{
 "cells": [
  {
   "cell_type": "markdown",
   "metadata": {},
   "source": [
    "Import packages and set up a cluster"
   ]
  },
  {
   "cell_type": "code",
   "execution_count": null,
   "metadata": {},
   "outputs": [],
   "source": [
    "import os\n",
    "\n",
    "# Import the package\n",
    "import ipyparallel as ipp\n",
    "\n",
    "# Get number of cores (for one node)\n",
    "n_workers = int(os.getenv('SLURM_CPUS_ON_NODE'))\n",
    "\n",
    "# Create a remote cluster (It only takes one line!)\n",
    "rc = ipp.Cluster(n=n_workers).start_and_connect_sync()"
   ]
  },
  {
   "cell_type": "markdown",
   "metadata": {},
   "source": [
    "Then create a *direct view*, which lets you run tasks across all the workers in a simple fashion:"
   ]
  },
  {
   "cell_type": "code",
   "execution_count": null,
   "metadata": {},
   "outputs": [],
   "source": [
    "dview = rc[:]"
   ]
  },
  {
   "cell_type": "markdown",
   "metadata": {},
   "source": [
    "There are two ways to import packages on the engines"
   ]
  },
  {
   "cell_type": "code",
   "execution_count": null,
   "metadata": {},
   "outputs": [],
   "source": [
    "# Import via execute\n",
    "dview.execute('import numpy as np')\n",
    "\n",
    "# Import via sync_imports\n",
    "# with dview.sync_imports():\n",
    "#    import numpy as np"
   ]
  },
  {
   "cell_type": "markdown",
   "metadata": {},
   "source": [
    "The push command lets you send data to each engine"
   ]
  },
  {
   "cell_type": "code",
   "execution_count": null,
   "metadata": {},
   "outputs": [],
   "source": [
    "# Send data to all workers\n",
    "dview.push(dict(a=1.03234, b=3453))\n",
    "\n",
    "# Manual approach to send to each worker\n",
    "for i in range(cpu_count):\n",
    "  rc[i].push({'num': rc.ids[i]})"
   ]
  },
  {
   "cell_type": "markdown",
   "metadata": {},
   "source": [
    "Some commands will return an asynchronous object"
   ]
  },
  {
   "cell_type": "code",
   "execution_count": null,
   "metadata": {},
   "outputs": [],
   "source": [
    "# Apply and then get\n",
    "async_object = dview.apply(lambda x: id+x, 27)\n",
    "print(async_object)\n",
    "# Get the result\n",
    "async_object.get()"
   ]
  },
  {
   "cell_type": "markdown",
   "metadata": {},
   "source": [
    "There are other ways to make sure your code finishes running before moving on"
   ]
  },
  {
   "cell_type": "code",
   "execution_count": null,
   "metadata": {},
   "outputs": [],
   "source": [
    "# Can use apply sync\n",
    "dview.apply_sync(lambda x: num+x, 27)\n",
    "\n",
    "# Or use blocking for all operations\n",
    "dview.block=True\n",
    "dview.apply(lambda x: num+x, 27)"
   ]
  },
  {
   "cell_type": "markdown",
   "metadata": {},
   "source": [
    "A *load balanced* view assigns tasks to keep all of the workers busy:"
   ]
  },
  {
   "cell_type": "code",
   "execution_count": null,
   "metadata": {},
   "outputs": [],
   "source": [
    "# Create a balanced load view\n",
    "lview = rc.load_balanced_view()\n",
    "\n",
    "# Cause execution on main process to wait while tasks sent to workers finish\n",
    "lview.block = True"
   ]
  },
  {
   "cell_type": "markdown",
   "metadata": {},
   "source": [
    "To calculate $pi$ by Monte Carlo simulation, let's define a function that checks if two points are in the unit circle. Each worker will process a large number of points in a vectorized fashion.\n"
   ]
  },
  {
   "cell_type": "code",
   "execution_count": null,
   "metadata": {},
   "outputs": [],
   "source": [
    "def local_mean(seed):\n",
    "  rng = np.random.default_rng(seed=seed)\n",
    "  x = rng.uniform(size = 100000).reshape(-1,2)\n",
    "  return np.mean(x[:,0]**2 + x[:,1]**2 < 1)\n"
   ]
  },
  {
   "cell_type": "code",
   "execution_count": null,
   "metadata": {},
   "outputs": [],
   "source": [
    "# Execute map\n",
    "m = 100\n",
    "pi4 = lview.map(local_mean, range(m))   # Run calculation in parallel\n",
    "# Estimate pi\n",
    "print(np.mean(pi4) * 4)\n"
   ]
  }
 ],
 "metadata": {
  "kernelspec": {
   "display_name": "Python 3 (ipykernel)",
   "language": "python",
   "name": "python3"
  },
  "language_info": {
   "codemirror_mode": {
    "name": "ipython",
    "version": 3
   },
   "file_extension": ".py",
   "mimetype": "text/x-python",
   "name": "python",
   "nbconvert_exporter": "python",
   "pygments_lexer": "ipython3",
   "version": "3.12.2"
  }
 },
 "nbformat": 4,
 "nbformat_minor": 4
}
